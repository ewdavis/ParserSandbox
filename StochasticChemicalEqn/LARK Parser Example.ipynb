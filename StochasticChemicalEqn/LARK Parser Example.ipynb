{
 "cells": [
  {
   "cell_type": "code",
   "execution_count": 58,
   "metadata": {},
   "outputs": [
    {
     "name": "stdout",
     "output_type": "stream",
     "text": [
      "Comment!\n",
      "Forwards/Backwards\n",
      "Forwards\n",
      "Comment!\n",
      "Forwards/Backwards\n"
     ]
    }
   ],
   "source": [
    "from lark import Lark, tree\n",
    "import pydot\n",
    "\n",
    "grammar = 'equation.lark'\n",
    "\n",
    "def equationVisitor(tree):\n",
    "    if (len([x for x in tree.find_data(\"bothequation\")]) != 0):\n",
    "        print(\"Forwards/Backwards\")\n",
    "    elif (len([x for x in tree.find_data(\"forwardequation\")]) != 0):\n",
    "        print(\"Forwards\")\n",
    "    elif (len([x for x in tree.find_data(\"backwardsequation\")]) != 0):\n",
    "        print(\"Backwards\")\n",
    "    else:\n",
    "        print(\"oops!\")\n",
    "        \n",
    "def lineVisitor(tree):\n",
    "    if (len([x for x in tree.find_data(\"equation\")]) != 0):\n",
    "        equationVisitor(tree)\n",
    "    else:\n",
    "        print(\"Comment!\")\n",
    "        \n",
    "with open(\"example.eqn\") as file:\n",
    "    data = \"\\n\".join(file.readlines())\n",
    "    \n",
    "l = Lark(open(grammar).read())\n",
    "\n",
    "parse_tree = l.parse(data)\n",
    "\n",
    "tree.pydot__tree_to_png(parse_tree, \"tree.png\")\n",
    "\n",
    "for tree,idx in zip(parse_tree.children, range(0,len(parse_tree.children))):\n",
    "        lineVisitor(tree)\n",
    "\n"
   ]
  }
 ],
 "metadata": {
  "kernelspec": {
   "display_name": "Python 3",
   "language": "python",
   "name": "python3"
  },
  "language_info": {
   "codemirror_mode": {
    "name": "ipython",
    "version": 3
   },
   "file_extension": ".py",
   "mimetype": "text/x-python",
   "name": "python",
   "nbconvert_exporter": "python",
   "pygments_lexer": "ipython3",
   "version": "3.7.3"
  }
 },
 "nbformat": 4,
 "nbformat_minor": 2
}
